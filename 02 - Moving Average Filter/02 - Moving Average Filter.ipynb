{
 "cells": [
  {
   "cell_type": "code",
   "execution_count": 51,
   "id": "b8b4973e",
   "metadata": {},
   "outputs": [],
   "source": [
    "import scipy.io\n",
    "import numpy as np\n",
    "import pandas as pd\n",
    "import matplotlib.pyplot as plt"
   ]
  },
  {
   "cell_type": "code",
   "execution_count": 52,
   "id": "9c0d6883",
   "metadata": {},
   "outputs": [],
   "source": [
    "mat = scipy.io.loadmat('SonarAlt.mat')[\"sonarAlt\"][0]\n",
    "measures = np.arange(0,len(mat))\n"
   ]
  },
  {
   "cell_type": "code",
   "execution_count": 53,
   "id": "77d518e4",
   "metadata": {},
   "outputs": [
    {
     "name": "stdout",
     "output_type": "stream",
     "text": [
      "{'sample': array([   0,    1,    2, ..., 1498, 1499, 1500]), 'sensor_data': array([34.25491256, 33.60223519, 33.60223519, ..., 36.55540305,\n",
      "       36.55540305, 36.55540305])}\n"
     ]
    }
   ],
   "source": [
    "sensor_data = {\n",
    "    \"sample\":measures,\n",
    "    \"sensor_data\":mat}\n",
    "print(sensor_data)"
   ]
  },
  {
   "cell_type": "code",
   "execution_count": 54,
   "id": "6af5761e",
   "metadata": {},
   "outputs": [
    {
     "data": {
      "text/html": [
       "<div>\n",
       "<style scoped>\n",
       "    .dataframe tbody tr th:only-of-type {\n",
       "        vertical-align: middle;\n",
       "    }\n",
       "\n",
       "    .dataframe tbody tr th {\n",
       "        vertical-align: top;\n",
       "    }\n",
       "\n",
       "    .dataframe thead th {\n",
       "        text-align: right;\n",
       "    }\n",
       "</style>\n",
       "<table border=\"1\" class=\"dataframe\">\n",
       "  <thead>\n",
       "    <tr style=\"text-align: right;\">\n",
       "      <th></th>\n",
       "      <th>sample</th>\n",
       "      <th>sensor_data</th>\n",
       "      <th>mov_avg_filter</th>\n",
       "      <th>full_avg_gilter</th>\n",
       "    </tr>\n",
       "  </thead>\n",
       "  <tbody>\n",
       "    <tr>\n",
       "      <th>0</th>\n",
       "      <td>0</td>\n",
       "      <td>34.254913</td>\n",
       "      <td>0.0</td>\n",
       "      <td>0.0</td>\n",
       "    </tr>\n",
       "    <tr>\n",
       "      <th>1</th>\n",
       "      <td>1</td>\n",
       "      <td>33.602235</td>\n",
       "      <td>0.0</td>\n",
       "      <td>0.0</td>\n",
       "    </tr>\n",
       "    <tr>\n",
       "      <th>2</th>\n",
       "      <td>2</td>\n",
       "      <td>33.602235</td>\n",
       "      <td>0.0</td>\n",
       "      <td>0.0</td>\n",
       "    </tr>\n",
       "    <tr>\n",
       "      <th>3</th>\n",
       "      <td>3</td>\n",
       "      <td>33.602235</td>\n",
       "      <td>0.0</td>\n",
       "      <td>0.0</td>\n",
       "    </tr>\n",
       "    <tr>\n",
       "      <th>4</th>\n",
       "      <td>4</td>\n",
       "      <td>33.602235</td>\n",
       "      <td>0.0</td>\n",
       "      <td>0.0</td>\n",
       "    </tr>\n",
       "    <tr>\n",
       "      <th>5</th>\n",
       "      <td>5</td>\n",
       "      <td>34.254913</td>\n",
       "      <td>0.0</td>\n",
       "      <td>0.0</td>\n",
       "    </tr>\n",
       "    <tr>\n",
       "      <th>6</th>\n",
       "      <td>6</td>\n",
       "      <td>33.510678</td>\n",
       "      <td>0.0</td>\n",
       "      <td>0.0</td>\n",
       "    </tr>\n",
       "    <tr>\n",
       "      <th>7</th>\n",
       "      <td>7</td>\n",
       "      <td>33.419532</td>\n",
       "      <td>0.0</td>\n",
       "      <td>0.0</td>\n",
       "    </tr>\n",
       "    <tr>\n",
       "      <th>8</th>\n",
       "      <td>8</td>\n",
       "      <td>33.510678</td>\n",
       "      <td>0.0</td>\n",
       "      <td>0.0</td>\n",
       "    </tr>\n",
       "    <tr>\n",
       "      <th>9</th>\n",
       "      <td>9</td>\n",
       "      <td>34.254913</td>\n",
       "      <td>0.0</td>\n",
       "      <td>0.0</td>\n",
       "    </tr>\n",
       "  </tbody>\n",
       "</table>\n",
       "</div>"
      ],
      "text/plain": [
       "   sample  sensor_data  mov_avg_filter  full_avg_gilter\n",
       "0       0    34.254913             0.0              0.0\n",
       "1       1    33.602235             0.0              0.0\n",
       "2       2    33.602235             0.0              0.0\n",
       "3       3    33.602235             0.0              0.0\n",
       "4       4    33.602235             0.0              0.0\n",
       "5       5    34.254913             0.0              0.0\n",
       "6       6    33.510678             0.0              0.0\n",
       "7       7    33.419532             0.0              0.0\n",
       "8       8    33.510678             0.0              0.0\n",
       "9       9    34.254913             0.0              0.0"
      ]
     },
     "execution_count": 54,
     "metadata": {},
     "output_type": "execute_result"
    }
   ],
   "source": [
    "data = pd.DataFrame(sensor_data)\n",
    "\n",
    "measures = data.shape[0]\n",
    "#data[\"sample\"] = np.arange(0,data.shape[0])\n",
    "data[\"mov_avg_filter\"] = np.zeros((measures,1))\n",
    "data[\"full_avg_gilter\"] = np.zeros((measures,1))\n",
    "\n",
    "window_size = 30\n",
    "\n",
    "data.head(10)"
   ]
  },
  {
   "cell_type": "code",
   "execution_count": 56,
   "id": "0a6c6cb5",
   "metadata": {},
   "outputs": [
    {
     "data": {
      "text/html": [
       "<div>\n",
       "<style scoped>\n",
       "    .dataframe tbody tr th:only-of-type {\n",
       "        vertical-align: middle;\n",
       "    }\n",
       "\n",
       "    .dataframe tbody tr th {\n",
       "        vertical-align: top;\n",
       "    }\n",
       "\n",
       "    .dataframe thead th {\n",
       "        text-align: right;\n",
       "    }\n",
       "</style>\n",
       "<table border=\"1\" class=\"dataframe\">\n",
       "  <thead>\n",
       "    <tr style=\"text-align: right;\">\n",
       "      <th></th>\n",
       "      <th>sample</th>\n",
       "      <th>sensor_data</th>\n",
       "      <th>mov_avg_filter</th>\n",
       "      <th>full_avg_gilter</th>\n",
       "    </tr>\n",
       "  </thead>\n",
       "  <tbody>\n",
       "    <tr>\n",
       "      <th>0</th>\n",
       "      <td>0</td>\n",
       "      <td>34.254913</td>\n",
       "      <td>34.254913</td>\n",
       "      <td>0.0</td>\n",
       "    </tr>\n",
       "    <tr>\n",
       "      <th>1</th>\n",
       "      <td>1</td>\n",
       "      <td>33.602235</td>\n",
       "      <td>33.602235</td>\n",
       "      <td>0.0</td>\n",
       "    </tr>\n",
       "    <tr>\n",
       "      <th>2</th>\n",
       "      <td>2</td>\n",
       "      <td>33.602235</td>\n",
       "      <td>33.602235</td>\n",
       "      <td>0.0</td>\n",
       "    </tr>\n",
       "    <tr>\n",
       "      <th>3</th>\n",
       "      <td>3</td>\n",
       "      <td>33.602235</td>\n",
       "      <td>33.602235</td>\n",
       "      <td>0.0</td>\n",
       "    </tr>\n",
       "    <tr>\n",
       "      <th>4</th>\n",
       "      <td>4</td>\n",
       "      <td>33.602235</td>\n",
       "      <td>33.602235</td>\n",
       "      <td>0.0</td>\n",
       "    </tr>\n",
       "    <tr>\n",
       "      <th>5</th>\n",
       "      <td>5</td>\n",
       "      <td>34.254913</td>\n",
       "      <td>34.254913</td>\n",
       "      <td>0.0</td>\n",
       "    </tr>\n",
       "    <tr>\n",
       "      <th>6</th>\n",
       "      <td>6</td>\n",
       "      <td>33.510678</td>\n",
       "      <td>33.510678</td>\n",
       "      <td>0.0</td>\n",
       "    </tr>\n",
       "    <tr>\n",
       "      <th>7</th>\n",
       "      <td>7</td>\n",
       "      <td>33.419532</td>\n",
       "      <td>33.419532</td>\n",
       "      <td>0.0</td>\n",
       "    </tr>\n",
       "    <tr>\n",
       "      <th>8</th>\n",
       "      <td>8</td>\n",
       "      <td>33.510678</td>\n",
       "      <td>33.510678</td>\n",
       "      <td>0.0</td>\n",
       "    </tr>\n",
       "    <tr>\n",
       "      <th>9</th>\n",
       "      <td>9</td>\n",
       "      <td>34.254913</td>\n",
       "      <td>34.254913</td>\n",
       "      <td>0.0</td>\n",
       "    </tr>\n",
       "  </tbody>\n",
       "</table>\n",
       "</div>"
      ],
      "text/plain": [
       "   sample  sensor_data  mov_avg_filter  full_avg_gilter\n",
       "0       0    34.254913       34.254913              0.0\n",
       "1       1    33.602235       33.602235              0.0\n",
       "2       2    33.602235       33.602235              0.0\n",
       "3       3    33.602235       33.602235              0.0\n",
       "4       4    33.602235       33.602235              0.0\n",
       "5       5    34.254913       34.254913              0.0\n",
       "6       6    33.510678       33.510678              0.0\n",
       "7       7    33.419532       33.419532              0.0\n",
       "8       8    33.510678       33.510678              0.0\n",
       "9       9    34.254913       34.254913              0.0"
      ]
     },
     "execution_count": 56,
     "metadata": {},
     "output_type": "execute_result"
    }
   ],
   "source": [
    "for index in data[\"sample\"]:\n",
    "\n",
    "    if index + 1 <= window_size:\n",
    "        data.loc[index,\"mov_avg_filter\"] = data.loc[index,\"sensor_data\"]\n",
    "    else:\n",
    "        current_measure = data.loc[index,\"sensor_data\"]\n",
    "        measure_k_n = data.loc[index - window_size,\"sensor_data\"]\n",
    "        data.loc[index,\"mov_avg_filter\"] = data.loc[index-1,\"mov_avg_filter\"] + ((current_measure - measure_k_n)/window_size)\n",
    "\n",
    "data.head(10)"
   ]
  },
  {
   "cell_type": "code",
   "execution_count": 57,
   "id": "8e01e8a6",
   "metadata": {},
   "outputs": [
    {
     "data": {
      "text/plain": [
       "[<matplotlib.lines.Line2D at 0x2b30ec49c50>]"
      ]
     },
     "execution_count": 57,
     "metadata": {},
     "output_type": "execute_result"
    },
    {
     "data": {
      "image/png": "[encoded data removed]",
      "text/plain": [
       "<Figure size 640x480 with 1 Axes>"
      ]
     },
     "metadata": {},
     "output_type": "display_data"
    }
   ],
   "source": [
    "fig = plt.figure()\n",
    "axes = fig.add_subplot(111)\n",
    "axes.plot(data[\"sample\"],data[\"sensor_data\"],label='sensor_data')\n",
    "axes.plot(data[\"sample\"],data[\"mov_avg_filter\"],color='r', label=\"filtered signal\")\n"
   ]
  },
  {
   "cell_type": "code",
   "execution_count": null,
   "id": "84144afd",
   "metadata": {},
   "outputs": [],
   "source": []
  },
  {
   "cell_type": "code",
   "execution_count": null,
   "id": "cfa607fc",
   "metadata": {},
   "outputs": [],
   "source": []
  }
 ],
 "metadata": {
  "kernelspec": {
   "display_name": "Python 3 (ipykernel)",
   "language": "python",
   "name": "python3"
  },
  "language_info": {
   "codemirror_mode": {
    "name": "ipython",
    "version": 3
   },
   "file_extension": ".py",
   "mimetype": "text/x-python",
   "name": "python",
   "nbconvert_exporter": "python",
   "pygments_lexer": "ipython3",
   "version": "3.11.5"
  }
 },
 "nbformat": 4,
 "nbformat_minor": 5
}
