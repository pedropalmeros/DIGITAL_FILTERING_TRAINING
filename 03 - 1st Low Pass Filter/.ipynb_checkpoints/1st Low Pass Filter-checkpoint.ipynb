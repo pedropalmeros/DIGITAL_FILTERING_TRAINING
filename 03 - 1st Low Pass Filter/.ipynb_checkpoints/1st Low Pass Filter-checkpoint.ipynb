{
 "cells": [
  {
   "cell_type": "code",
   "execution_count": 27,
   "id": "bc29af18",
   "metadata": {},
   "outputs": [],
   "source": [
    "import scipy.io\n",
    "import numpy as np\n",
    "import pandas as pd\n",
    "import matplotlib.pyplot as plt\n",
    "\n",
    "%matplotlib inline  \n"
   ]
  },
  {
   "cell_type": "code",
   "execution_count": 28,
   "id": "4e7de5d4",
   "metadata": {},
   "outputs": [],
   "source": [
    "mat = scipy.io.loadmat('SonarAlt.mat')[\"sonarAlt\"][0]\n",
    "measures = np.arange(0,len(mat))"
   ]
  },
  {
   "cell_type": "code",
   "execution_count": 29,
   "id": "95caabba",
   "metadata": {},
   "outputs": [],
   "source": [
    "sensor_data = {\n",
    "    \"sample\":measures,\n",
    "    \"sensor_data\":mat}"
   ]
  },
  {
   "cell_type": "code",
   "execution_count": 30,
   "id": "cb009f09",
   "metadata": {},
   "outputs": [
    {
     "data": {
      "text/html": [
       "<div>\n",
       "<style scoped>\n",
       "    .dataframe tbody tr th:only-of-type {\n",
       "        vertical-align: middle;\n",
       "    }\n",
       "\n",
       "    .dataframe tbody tr th {\n",
       "        vertical-align: top;\n",
       "    }\n",
       "\n",
       "    .dataframe thead th {\n",
       "        text-align: right;\n",
       "    }\n",
       "</style>\n",
       "<table border=\"1\" class=\"dataframe\">\n",
       "  <thead>\n",
       "    <tr style=\"text-align: right;\">\n",
       "      <th></th>\n",
       "      <th>sample</th>\n",
       "      <th>sensor_data</th>\n",
       "      <th>mov_avg_filter</th>\n",
       "      <th>low_pass_filter</th>\n",
       "    </tr>\n",
       "  </thead>\n",
       "  <tbody>\n",
       "    <tr>\n",
       "      <th>0</th>\n",
       "      <td>0</td>\n",
       "      <td>34.254913</td>\n",
       "      <td>0.0</td>\n",
       "      <td>0.0</td>\n",
       "    </tr>\n",
       "    <tr>\n",
       "      <th>1</th>\n",
       "      <td>1</td>\n",
       "      <td>33.602235</td>\n",
       "      <td>0.0</td>\n",
       "      <td>0.0</td>\n",
       "    </tr>\n",
       "    <tr>\n",
       "      <th>2</th>\n",
       "      <td>2</td>\n",
       "      <td>33.602235</td>\n",
       "      <td>0.0</td>\n",
       "      <td>0.0</td>\n",
       "    </tr>\n",
       "    <tr>\n",
       "      <th>3</th>\n",
       "      <td>3</td>\n",
       "      <td>33.602235</td>\n",
       "      <td>0.0</td>\n",
       "      <td>0.0</td>\n",
       "    </tr>\n",
       "    <tr>\n",
       "      <th>4</th>\n",
       "      <td>4</td>\n",
       "      <td>33.602235</td>\n",
       "      <td>0.0</td>\n",
       "      <td>0.0</td>\n",
       "    </tr>\n",
       "    <tr>\n",
       "      <th>5</th>\n",
       "      <td>5</td>\n",
       "      <td>34.254913</td>\n",
       "      <td>0.0</td>\n",
       "      <td>0.0</td>\n",
       "    </tr>\n",
       "    <tr>\n",
       "      <th>6</th>\n",
       "      <td>6</td>\n",
       "      <td>33.510678</td>\n",
       "      <td>0.0</td>\n",
       "      <td>0.0</td>\n",
       "    </tr>\n",
       "    <tr>\n",
       "      <th>7</th>\n",
       "      <td>7</td>\n",
       "      <td>33.419532</td>\n",
       "      <td>0.0</td>\n",
       "      <td>0.0</td>\n",
       "    </tr>\n",
       "    <tr>\n",
       "      <th>8</th>\n",
       "      <td>8</td>\n",
       "      <td>33.510678</td>\n",
       "      <td>0.0</td>\n",
       "      <td>0.0</td>\n",
       "    </tr>\n",
       "    <tr>\n",
       "      <th>9</th>\n",
       "      <td>9</td>\n",
       "      <td>34.254913</td>\n",
       "      <td>0.0</td>\n",
       "      <td>0.0</td>\n",
       "    </tr>\n",
       "  </tbody>\n",
       "</table>\n",
       "</div>"
      ],
      "text/plain": [
       "   sample  sensor_data  mov_avg_filter  low_pass_filter\n",
       "0       0    34.254913             0.0              0.0\n",
       "1       1    33.602235             0.0              0.0\n",
       "2       2    33.602235             0.0              0.0\n",
       "3       3    33.602235             0.0              0.0\n",
       "4       4    33.602235             0.0              0.0\n",
       "5       5    34.254913             0.0              0.0\n",
       "6       6    33.510678             0.0              0.0\n",
       "7       7    33.419532             0.0              0.0\n",
       "8       8    33.510678             0.0              0.0\n",
       "9       9    34.254913             0.0              0.0"
      ]
     },
     "execution_count": 30,
     "metadata": {},
     "output_type": "execute_result"
    }
   ],
   "source": [
    "data = pd.DataFrame(sensor_data)\n",
    "\n",
    "measures = data.shape[0]\n",
    "data[\"mov_avg_filter\"] = np.zeros((measures,1))\n",
    "data[\"low_pass_filter\"] = np.zeros((measures,1))\n",
    "\n",
    "window_size = 30\n",
    "\n",
    "data.head(10)"
   ]
  },
  {
   "cell_type": "markdown",
   "id": "ee902803",
   "metadata": {},
   "source": [
    "#### Moving Average Filter Implementation"
   ]
  },
  {
   "cell_type": "code",
   "execution_count": 31,
   "id": "9a8daa29",
   "metadata": {},
   "outputs": [
    {
     "data": {
      "text/html": [
       "<div>\n",
       "<style scoped>\n",
       "    .dataframe tbody tr th:only-of-type {\n",
       "        vertical-align: middle;\n",
       "    }\n",
       "\n",
       "    .dataframe tbody tr th {\n",
       "        vertical-align: top;\n",
       "    }\n",
       "\n",
       "    .dataframe thead th {\n",
       "        text-align: right;\n",
       "    }\n",
       "</style>\n",
       "<table border=\"1\" class=\"dataframe\">\n",
       "  <thead>\n",
       "    <tr style=\"text-align: right;\">\n",
       "      <th></th>\n",
       "      <th>sample</th>\n",
       "      <th>sensor_data</th>\n",
       "      <th>mov_avg_filter</th>\n",
       "      <th>low_pass_filter</th>\n",
       "    </tr>\n",
       "  </thead>\n",
       "  <tbody>\n",
       "    <tr>\n",
       "      <th>0</th>\n",
       "      <td>0</td>\n",
       "      <td>34.254913</td>\n",
       "      <td>34.254913</td>\n",
       "      <td>0.0</td>\n",
       "    </tr>\n",
       "    <tr>\n",
       "      <th>1</th>\n",
       "      <td>1</td>\n",
       "      <td>33.602235</td>\n",
       "      <td>33.602235</td>\n",
       "      <td>0.0</td>\n",
       "    </tr>\n",
       "    <tr>\n",
       "      <th>2</th>\n",
       "      <td>2</td>\n",
       "      <td>33.602235</td>\n",
       "      <td>33.602235</td>\n",
       "      <td>0.0</td>\n",
       "    </tr>\n",
       "    <tr>\n",
       "      <th>3</th>\n",
       "      <td>3</td>\n",
       "      <td>33.602235</td>\n",
       "      <td>33.602235</td>\n",
       "      <td>0.0</td>\n",
       "    </tr>\n",
       "    <tr>\n",
       "      <th>4</th>\n",
       "      <td>4</td>\n",
       "      <td>33.602235</td>\n",
       "      <td>33.602235</td>\n",
       "      <td>0.0</td>\n",
       "    </tr>\n",
       "    <tr>\n",
       "      <th>5</th>\n",
       "      <td>5</td>\n",
       "      <td>34.254913</td>\n",
       "      <td>34.254913</td>\n",
       "      <td>0.0</td>\n",
       "    </tr>\n",
       "    <tr>\n",
       "      <th>6</th>\n",
       "      <td>6</td>\n",
       "      <td>33.510678</td>\n",
       "      <td>33.510678</td>\n",
       "      <td>0.0</td>\n",
       "    </tr>\n",
       "    <tr>\n",
       "      <th>7</th>\n",
       "      <td>7</td>\n",
       "      <td>33.419532</td>\n",
       "      <td>33.419532</td>\n",
       "      <td>0.0</td>\n",
       "    </tr>\n",
       "    <tr>\n",
       "      <th>8</th>\n",
       "      <td>8</td>\n",
       "      <td>33.510678</td>\n",
       "      <td>33.510678</td>\n",
       "      <td>0.0</td>\n",
       "    </tr>\n",
       "    <tr>\n",
       "      <th>9</th>\n",
       "      <td>9</td>\n",
       "      <td>34.254913</td>\n",
       "      <td>34.254913</td>\n",
       "      <td>0.0</td>\n",
       "    </tr>\n",
       "  </tbody>\n",
       "</table>\n",
       "</div>"
      ],
      "text/plain": [
       "   sample  sensor_data  mov_avg_filter  low_pass_filter\n",
       "0       0    34.254913       34.254913              0.0\n",
       "1       1    33.602235       33.602235              0.0\n",
       "2       2    33.602235       33.602235              0.0\n",
       "3       3    33.602235       33.602235              0.0\n",
       "4       4    33.602235       33.602235              0.0\n",
       "5       5    34.254913       34.254913              0.0\n",
       "6       6    33.510678       33.510678              0.0\n",
       "7       7    33.419532       33.419532              0.0\n",
       "8       8    33.510678       33.510678              0.0\n",
       "9       9    34.254913       34.254913              0.0"
      ]
     },
     "execution_count": 31,
     "metadata": {},
     "output_type": "execute_result"
    }
   ],
   "source": [
    "for index in data[\"sample\"]:\n",
    "\n",
    "    if index + 1 <= window_size:\n",
    "        data.loc[index,\"mov_avg_filter\"] = data.loc[index,\"sensor_data\"]\n",
    "    else:\n",
    "        current_measure = data.loc[index,\"sensor_data\"]\n",
    "        measure_k_n = data.loc[index - window_size,\"sensor_data\"]\n",
    "        data.loc[index,\"mov_avg_filter\"] = data.loc[index-1,\"mov_avg_filter\"] + ((current_measure - measure_k_n)/window_size)\n",
    "\n",
    "data.head(10)"
   ]
  },
  {
   "cell_type": "markdown",
   "id": "2686a233",
   "metadata": {},
   "source": [
    "#### 1st Low pass filter\n",
    "\n",
    "##### $\\alpha$ definition"
   ]
  },
  {
   "cell_type": "code",
   "execution_count": 38,
   "id": "8840a374",
   "metadata": {},
   "outputs": [],
   "source": [
    "alpha = 0.95"
   ]
  },
  {
   "cell_type": "markdown",
   "id": "98ba63b4",
   "metadata": {},
   "source": [
    "##### $1^{st}$ low pass filter implementation"
   ]
  },
  {
   "cell_type": "code",
   "execution_count": 39,
   "id": "7ee0cb1a",
   "metadata": {},
   "outputs": [],
   "source": [
    "for index in data[\"sample\"]:\n",
    "    if index >= 1:\n",
    "        previous_estimate = data.loc[index-1,\"low_pass_filter\"] \n",
    "    else:\n",
    "        previous_estimate = data.loc[index,\"sensor_data\"]\n",
    "        \n",
    "    data.loc[index,\"low_pass_filter\"] = alpha*previous_estimate + (1 - alpha)*data.loc[index,\"sensor_data\"]\n",
    "    "
   ]
  },
  {
   "cell_type": "code",
   "execution_count": 40,
   "id": "8bd24884",
   "metadata": {},
   "outputs": [
    {
     "data": {
      "text/plain": [
       "[<matplotlib.lines.Line2D at 0x27baa400890>]"
      ]
     },
     "execution_count": 40,
     "metadata": {},
     "output_type": "execute_result"
    },
    {
     "data": {
      "image/png": "[encoded data removed]",
      "text/plain": [
       "<Figure size 640x480 with 1 Axes>"
      ]
     },
     "metadata": {},
     "output_type": "display_data"
    }
   ],
   "source": [
    "fig = plt.figure()\n",
    "axes = fig.add_subplot(111)\n",
    "axes.plot(data[\"sample\"],data[\"sensor_data\"],label='sensor_data')\n",
    "axes.plot(data[\"sample\"],data[\"mov_avg_filter\"],color='r', label=\"filtered signal\")\n",
    "axes.plot(data[\"sample\"],data[\"low_pass_filter\"], color=\"k\")"
   ]
  },
  {
   "cell_type": "code",
   "execution_count": null,
   "id": "4229ea73",
   "metadata": {},
   "outputs": [],
   "source": []
  },
  {
   "cell_type": "code",
   "execution_count": null,
   "id": "1acd7237",
   "metadata": {},
   "outputs": [],
   "source": []
  }
 ],
 "metadata": {
  "kernelspec": {
   "display_name": "Python 3 (ipykernel)",
   "language": "python",
   "name": "python3"
  },
  "language_info": {
   "codemirror_mode": {
    "name": "ipython",
    "version": 3
   },
   "file_extension": ".py",
   "mimetype": "text/x-python",
   "name": "python",
   "nbconvert_exporter": "python",
   "pygments_lexer": "ipython3",
   "version": "3.11.5"
  }
 },
 "nbformat": 4,
 "nbformat_minor": 5
}
